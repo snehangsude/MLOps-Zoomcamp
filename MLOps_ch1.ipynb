{
 "cells": [
  {
   "cell_type": "code",
   "execution_count": 1,
   "id": "607dfccc-1a53-4640-b806-2e10d9690c1a",
   "metadata": {
    "execution": {
     "iopub.status.idle": "2022-05-23T16:41:15.828857Z",
     "shell.execute_reply": "2022-05-23T16:41:15.828288Z",
     "shell.execute_reply.started": "2022-05-23T16:41:14.901188Z"
    }
   },
   "outputs": [],
   "source": [
    "import pandas as pd\n",
    "import numpy as np"
   ]
  },
  {
   "cell_type": "markdown",
   "id": "5de02575-db82-413b-be41-8f5f508a41af",
   "metadata": {},
   "source": [
    "## Answering Question 1"
   ]
  },
  {
   "cell_type": "code",
   "execution_count": 2,
   "id": "a3904356-e1c6-466a-a2f8-67c8f978e15a",
   "metadata": {
    "execution": {
     "iopub.execute_input": "2022-05-23T16:41:15.832197Z",
     "iopub.status.busy": "2022-05-23T16:41:15.831405Z",
     "iopub.status.idle": "2022-05-23T16:41:16.704121Z",
     "shell.execute_reply": "2022-05-23T16:41:16.703513Z",
     "shell.execute_reply.started": "2022-05-23T16:41:15.832159Z"
    }
   },
   "outputs": [
    {
     "name": "stdout",
     "output_type": "stream",
     "text": [
      "Shape of the data: (1154112, 7)\n"
     ]
    },
    {
     "data": {
      "text/html": [
       "<div>\n",
       "<style scoped>\n",
       "    .dataframe tbody tr th:only-of-type {\n",
       "        vertical-align: middle;\n",
       "    }\n",
       "\n",
       "    .dataframe tbody tr th {\n",
       "        vertical-align: top;\n",
       "    }\n",
       "\n",
       "    .dataframe thead th {\n",
       "        text-align: right;\n",
       "    }\n",
       "</style>\n",
       "<table border=\"1\" class=\"dataframe\">\n",
       "  <thead>\n",
       "    <tr style=\"text-align: right;\">\n",
       "      <th></th>\n",
       "      <th>dispatching_base_num</th>\n",
       "      <th>pickup_datetime</th>\n",
       "      <th>dropOff_datetime</th>\n",
       "      <th>PUlocationID</th>\n",
       "      <th>DOlocationID</th>\n",
       "      <th>SR_Flag</th>\n",
       "      <th>Affiliated_base_number</th>\n",
       "    </tr>\n",
       "  </thead>\n",
       "  <tbody>\n",
       "    <tr>\n",
       "      <th>0</th>\n",
       "      <td>B00009</td>\n",
       "      <td>2021-01-01 00:27:00</td>\n",
       "      <td>2021-01-01 00:44:00</td>\n",
       "      <td>NaN</td>\n",
       "      <td>NaN</td>\n",
       "      <td>None</td>\n",
       "      <td>B00009</td>\n",
       "    </tr>\n",
       "    <tr>\n",
       "      <th>1</th>\n",
       "      <td>B00009</td>\n",
       "      <td>2021-01-01 00:50:00</td>\n",
       "      <td>2021-01-01 01:07:00</td>\n",
       "      <td>NaN</td>\n",
       "      <td>NaN</td>\n",
       "      <td>None</td>\n",
       "      <td>B00009</td>\n",
       "    </tr>\n",
       "    <tr>\n",
       "      <th>2</th>\n",
       "      <td>B00013</td>\n",
       "      <td>2021-01-01 00:01:00</td>\n",
       "      <td>2021-01-01 01:51:00</td>\n",
       "      <td>NaN</td>\n",
       "      <td>NaN</td>\n",
       "      <td>None</td>\n",
       "      <td>B00013</td>\n",
       "    </tr>\n",
       "  </tbody>\n",
       "</table>\n",
       "</div>"
      ],
      "text/plain": [
       "  dispatching_base_num     pickup_datetime    dropOff_datetime  PUlocationID  \\\n",
       "0               B00009 2021-01-01 00:27:00 2021-01-01 00:44:00           NaN   \n",
       "1               B00009 2021-01-01 00:50:00 2021-01-01 01:07:00           NaN   \n",
       "2               B00013 2021-01-01 00:01:00 2021-01-01 01:51:00           NaN   \n",
       "\n",
       "   DOlocationID SR_Flag Affiliated_base_number  \n",
       "0           NaN    None                 B00009  \n",
       "1           NaN    None                 B00009  \n",
       "2           NaN    None                 B00013  "
      ]
     },
     "execution_count": 2,
     "metadata": {},
     "output_type": "execute_result"
    }
   ],
   "source": [
    "df = pd.read_parquet('./fhv_tripdata_2021-01.parquet')\n",
    "print(f'Shape of the data: {df.shape}')\n",
    "df.head(3)"
   ]
  },
  {
   "cell_type": "markdown",
   "id": "3c7efcf5-7405-49bc-9c7c-d0e1771228c1",
   "metadata": {},
   "source": [
    "## Answering Question 2"
   ]
  },
  {
   "cell_type": "code",
   "execution_count": 3,
   "id": "4b049eca-be55-4656-89d9-40eda664bd82",
   "metadata": {
    "execution": {
     "iopub.execute_input": "2022-05-23T16:41:16.712192Z",
     "iopub.status.busy": "2022-05-23T16:41:16.712024Z",
     "iopub.status.idle": "2022-05-23T16:41:16.793692Z",
     "shell.execute_reply": "2022-05-23T16:41:16.793057Z",
     "shell.execute_reply.started": "2022-05-23T16:41:16.712174Z"
    }
   },
   "outputs": [],
   "source": [
    "df.pickup_datetime = pd.to_datetime(df.pickup_datetime)\n",
    "df.dropOff_datetime = pd.to_datetime(df.dropOff_datetime)"
   ]
  },
  {
   "cell_type": "code",
   "execution_count": 4,
   "id": "8d4d2268-8645-45a4-adef-d2eadba286d1",
   "metadata": {
    "execution": {
     "iopub.execute_input": "2022-05-23T16:41:16.796760Z",
     "iopub.status.busy": "2022-05-23T16:41:16.796599Z",
     "iopub.status.idle": "2022-05-23T16:41:29.825998Z",
     "shell.execute_reply": "2022-05-23T16:41:29.825506Z",
     "shell.execute_reply.started": "2022-05-23T16:41:16.796739Z"
    }
   },
   "outputs": [],
   "source": [
    "df['duration'] = (df.dropOff_datetime-df.pickup_datetime)\n",
    "df.duration = df.duration.apply(lambda y: y.total_seconds()/60)"
   ]
  },
  {
   "cell_type": "code",
   "execution_count": 5,
   "id": "540d7f7f-c7ce-4da2-9520-48b8c1873042",
   "metadata": {
    "execution": {
     "iopub.execute_input": "2022-05-23T16:41:29.875406Z",
     "iopub.status.busy": "2022-05-23T16:41:29.875083Z",
     "iopub.status.idle": "2022-05-23T16:41:29.883363Z",
     "shell.execute_reply": "2022-05-23T16:41:29.882995Z",
     "shell.execute_reply.started": "2022-05-23T16:41:29.875380Z"
    }
   },
   "outputs": [
    {
     "name": "stdout",
     "output_type": "stream",
     "text": [
      "Mean of total duration: 19.17\n"
     ]
    }
   ],
   "source": [
    "print(f'Mean of total duration: {df.duration.mean():.2f}')"
   ]
  },
  {
   "cell_type": "markdown",
   "id": "6c80b6c6-cf5f-4db2-9884-52c636f2ef5f",
   "metadata": {},
   "source": [
    "## Answering Question 3"
   ]
  },
  {
   "cell_type": "code",
   "execution_count": 6,
   "id": "4ca98048-d729-4c29-b7d1-fc97416fef4a",
   "metadata": {
    "execution": {
     "iopub.execute_input": "2022-05-23T16:41:29.885934Z",
     "iopub.status.busy": "2022-05-23T16:41:29.885664Z",
     "iopub.status.idle": "2022-05-23T16:41:29.892174Z",
     "shell.execute_reply": "2022-05-23T16:41:29.891848Z",
     "shell.execute_reply.started": "2022-05-23T16:41:29.885913Z"
    }
   },
   "outputs": [
    {
     "name": "stdout",
     "output_type": "stream",
     "text": [
      "Percentage of missing values in the Pick up location ID: 83.03%\n"
     ]
    }
   ],
   "source": [
    "print(f'Percentage of missing values in the Pick up location ID: {df.PUlocationID.isna().sum()/df.shape[0]*100:.2f}%')"
   ]
  },
  {
   "cell_type": "markdown",
   "id": "622821a1-007f-459a-909d-6d9d301cd6dc",
   "metadata": {},
   "source": [
    "## Answering Question 4"
   ]
  },
  {
   "cell_type": "code",
   "execution_count": 7,
   "id": "f2f027cb-1e6a-4b2a-8523-748acad8c766",
   "metadata": {
    "execution": {
     "iopub.execute_input": "2022-05-23T16:41:29.893210Z",
     "iopub.status.busy": "2022-05-23T16:41:29.892935Z",
     "iopub.status.idle": "2022-05-23T16:41:44.917767Z",
     "shell.execute_reply": "2022-05-23T16:41:44.917122Z",
     "shell.execute_reply.started": "2022-05-23T16:41:29.893184Z"
    }
   },
   "outputs": [
    {
     "data": {
      "text/html": [
       "<div>\n",
       "<style scoped>\n",
       "    .dataframe tbody tr th:only-of-type {\n",
       "        vertical-align: middle;\n",
       "    }\n",
       "\n",
       "    .dataframe tbody tr th {\n",
       "        vertical-align: top;\n",
       "    }\n",
       "\n",
       "    .dataframe thead th {\n",
       "        text-align: right;\n",
       "    }\n",
       "</style>\n",
       "<table border=\"1\" class=\"dataframe\">\n",
       "  <thead>\n",
       "    <tr style=\"text-align: right;\">\n",
       "      <th></th>\n",
       "      <th>dispatching_base_num</th>\n",
       "      <th>pickup_datetime</th>\n",
       "      <th>dropOff_datetime</th>\n",
       "      <th>PUlocationID</th>\n",
       "      <th>DOlocationID</th>\n",
       "      <th>SR_Flag</th>\n",
       "      <th>Affiliated_base_number</th>\n",
       "      <th>duration</th>\n",
       "    </tr>\n",
       "  </thead>\n",
       "  <tbody>\n",
       "    <tr>\n",
       "      <th>0</th>\n",
       "      <td>B00009</td>\n",
       "      <td>2021-01-01 00:27:00</td>\n",
       "      <td>2021-01-01 00:44:00</td>\n",
       "      <td>-1.0</td>\n",
       "      <td>-1.0</td>\n",
       "      <td>-1</td>\n",
       "      <td>B00009</td>\n",
       "      <td>17.0</td>\n",
       "    </tr>\n",
       "  </tbody>\n",
       "</table>\n",
       "</div>"
      ],
      "text/plain": [
       "  dispatching_base_num     pickup_datetime    dropOff_datetime  PUlocationID  \\\n",
       "0               B00009 2021-01-01 00:27:00 2021-01-01 00:44:00          -1.0   \n",
       "\n",
       "   DOlocationID  SR_Flag Affiliated_base_number  duration  \n",
       "0          -1.0       -1                 B00009      17.0  "
      ]
     },
     "execution_count": 7,
     "metadata": {},
     "output_type": "execute_result"
    }
   ],
   "source": [
    "df.fillna(-1, inplace=True)\n",
    "df.head(1)"
   ]
  },
  {
   "cell_type": "code",
   "execution_count": 8,
   "id": "daec8aec-10da-4291-9813-47a13eb20877",
   "metadata": {
    "execution": {
     "iopub.execute_input": "2022-05-23T16:41:44.919303Z",
     "iopub.status.busy": "2022-05-23T16:41:44.919070Z",
     "iopub.status.idle": "2022-05-23T16:41:47.095039Z",
     "shell.execute_reply": "2022-05-23T16:41:47.094466Z",
     "shell.execute_reply.started": "2022-05-23T16:41:44.919272Z"
    }
   },
   "outputs": [],
   "source": [
    "categorical = ['PUlocationID', 'DOlocationID']\n",
    "df[categorical] = df[categorical].astype(str)\n",
    "df = df[(df.duration >= 1) & (df.duration <= 60)]"
   ]
  },
  {
   "cell_type": "markdown",
   "id": "b10226ad-79f7-446d-807f-b4141beb0ee1",
   "metadata": {},
   "source": [
    "#### Importing DictVector to One hot encode the data"
   ]
  },
  {
   "cell_type": "code",
   "execution_count": 9,
   "id": "a1064a13-980a-46ea-9acd-d494717bb004",
   "metadata": {
    "execution": {
     "iopub.execute_input": "2022-05-23T16:41:47.101621Z",
     "iopub.status.busy": "2022-05-23T16:41:47.099977Z",
     "iopub.status.idle": "2022-05-23T16:41:47.631524Z",
     "shell.execute_reply": "2022-05-23T16:41:47.630853Z",
     "shell.execute_reply.started": "2022-05-23T16:41:47.101585Z"
    }
   },
   "outputs": [],
   "source": [
    "from sklearn.feature_extraction import DictVectorizer"
   ]
  },
  {
   "cell_type": "code",
   "execution_count": 10,
   "id": "b0e63b58-ffcc-4247-9fc8-a577a8c86c61",
   "metadata": {
    "execution": {
     "iopub.execute_input": "2022-05-23T16:41:47.632997Z",
     "iopub.status.busy": "2022-05-23T16:41:47.632673Z",
     "iopub.status.idle": "2022-05-23T16:41:51.019015Z",
     "shell.execute_reply": "2022-05-23T16:41:51.018127Z",
     "shell.execute_reply.started": "2022-05-23T16:41:47.632973Z"
    }
   },
   "outputs": [],
   "source": [
    "train_dict = df[categorical].to_dict(orient='records')\n",
    "dv = DictVectorizer()"
   ]
  },
  {
   "cell_type": "code",
   "execution_count": 11,
   "id": "d0108640-dc14-43c9-9c53-6de70dab309d",
   "metadata": {
    "execution": {
     "iopub.execute_input": "2022-05-23T16:41:51.020289Z",
     "iopub.status.busy": "2022-05-23T16:41:51.020137Z",
     "iopub.status.idle": "2022-05-23T16:41:51.075152Z",
     "shell.execute_reply": "2022-05-23T16:41:51.025166Z",
     "shell.execute_reply.started": "2022-05-23T16:41:51.020271Z"
    }
   },
   "outputs": [
    {
     "data": {
      "text/plain": [
       "{'PUlocationID': '-1.0', 'DOlocationID': '-1.0'}"
      ]
     },
     "execution_count": 11,
     "metadata": {},
     "output_type": "execute_result"
    }
   ],
   "source": [
    "train_dict[0]"
   ]
  },
  {
   "cell_type": "code",
   "execution_count": 12,
   "id": "8542f5bd-081a-43c5-8129-e9e199bb5968",
   "metadata": {
    "execution": {
     "iopub.execute_input": "2022-05-23T16:41:51.076825Z",
     "iopub.status.busy": "2022-05-23T16:41:51.076461Z",
     "iopub.status.idle": "2022-05-23T16:41:54.320217Z",
     "shell.execute_reply": "2022-05-23T16:41:54.314983Z",
     "shell.execute_reply.started": "2022-05-23T16:41:51.076798Z"
    }
   },
   "outputs": [
    {
     "name": "stdout",
     "output_type": "stream",
     "text": [
      "Dimention after OHE: 525\n"
     ]
    }
   ],
   "source": [
    "X_train = dv.fit_transform(train_dict)\n",
    "print(f'Dimention after OHE: {X_train.shape[1]}')"
   ]
  },
  {
   "cell_type": "code",
   "execution_count": 13,
   "id": "ff1b12c1-465a-4c0d-9e74-2299c48256ab",
   "metadata": {
    "execution": {
     "iopub.execute_input": "2022-05-23T16:41:54.321764Z",
     "iopub.status.busy": "2022-05-23T16:41:54.321209Z",
     "iopub.status.idle": "2022-05-23T16:41:54.330597Z",
     "shell.execute_reply": "2022-05-23T16:41:54.329988Z",
     "shell.execute_reply.started": "2022-05-23T16:41:54.321738Z"
    }
   },
   "outputs": [
    {
     "data": {
      "text/plain": [
       "array([17.        , 17.        ,  8.28333333, ..., 16.2       ,\n",
       "       19.43333333, 36.        ])"
      ]
     },
     "execution_count": 13,
     "metadata": {},
     "output_type": "execute_result"
    }
   ],
   "source": [
    "y_train = df['duration'].values\n",
    "y_train"
   ]
  },
  {
   "cell_type": "markdown",
   "id": "d8df99f3-177b-4a9a-a812-651a5bdf6a11",
   "metadata": {},
   "source": [
    "## Answering Question 5"
   ]
  },
  {
   "cell_type": "code",
   "execution_count": 14,
   "id": "01d170d9-64ee-4c1e-8613-b84927aa7be7",
   "metadata": {
    "execution": {
     "iopub.execute_input": "2022-05-23T16:41:54.331776Z",
     "iopub.status.busy": "2022-05-23T16:41:54.331627Z",
     "iopub.status.idle": "2022-05-23T16:41:54.428043Z",
     "shell.execute_reply": "2022-05-23T16:41:54.427372Z",
     "shell.execute_reply.started": "2022-05-23T16:41:54.331758Z"
    }
   },
   "outputs": [],
   "source": [
    "from sklearn.linear_model import LinearRegression\n",
    "from sklearn.metrics import mean_squared_error"
   ]
  },
  {
   "cell_type": "code",
   "execution_count": 15,
   "id": "aa93070d-1c78-4674-9ac6-78c58d018ca4",
   "metadata": {
    "execution": {
     "iopub.execute_input": "2022-05-23T16:41:54.436889Z",
     "iopub.status.busy": "2022-05-23T16:41:54.436399Z",
     "iopub.status.idle": "2022-05-23T16:42:29.084878Z",
     "shell.execute_reply": "2022-05-23T16:42:29.079933Z",
     "shell.execute_reply.started": "2022-05-23T16:41:54.436852Z"
    }
   },
   "outputs": [
    {
     "data": {
      "text/plain": [
       "LinearRegression()"
      ]
     },
     "execution_count": 15,
     "metadata": {},
     "output_type": "execute_result"
    }
   ],
   "source": [
    "lr =  LinearRegression()\n",
    "lr.fit(X_train, y_train)"
   ]
  },
  {
   "cell_type": "code",
   "execution_count": 16,
   "id": "6c11b4d1-986c-4df5-8230-5b7e7ee59688",
   "metadata": {
    "execution": {
     "iopub.execute_input": "2022-05-23T16:42:29.088273Z",
     "iopub.status.busy": "2022-05-23T16:42:29.086350Z",
     "iopub.status.idle": "2022-05-23T16:42:29.139849Z",
     "shell.execute_reply": "2022-05-23T16:42:29.137330Z",
     "shell.execute_reply.started": "2022-05-23T16:42:29.088204Z"
    }
   },
   "outputs": [
    {
     "name": "stdout",
     "output_type": "stream",
     "text": [
      "RMSE in training: 10.53\n"
     ]
    }
   ],
   "source": [
    "y_pred = lr.predict(X_train)\n",
    "print(f'RMSE in training: {mean_squared_error(y_train, y_pred, squared=False):.2f}')"
   ]
  },
  {
   "cell_type": "markdown",
   "id": "5c2251d0-eab2-42c3-9fd8-7f3549d449e4",
   "metadata": {},
   "source": [
    "## Answering Question 6"
   ]
  },
  {
   "cell_type": "code",
   "execution_count": 17,
   "id": "66e4773c-1aa8-4506-b785-cd89b556adcc",
   "metadata": {
    "execution": {
     "iopub.execute_input": "2022-05-23T16:42:29.176957Z",
     "iopub.status.busy": "2022-05-23T16:42:29.176703Z",
     "iopub.status.idle": "2022-05-23T16:42:29.773922Z",
     "shell.execute_reply": "2022-05-23T16:42:29.722960Z",
     "shell.execute_reply.started": "2022-05-23T16:42:29.176934Z"
    }
   },
   "outputs": [
    {
     "data": {
      "text/html": [
       "<div>\n",
       "<style scoped>\n",
       "    .dataframe tbody tr th:only-of-type {\n",
       "        vertical-align: middle;\n",
       "    }\n",
       "\n",
       "    .dataframe tbody tr th {\n",
       "        vertical-align: top;\n",
       "    }\n",
       "\n",
       "    .dataframe thead th {\n",
       "        text-align: right;\n",
       "    }\n",
       "</style>\n",
       "<table border=\"1\" class=\"dataframe\">\n",
       "  <thead>\n",
       "    <tr style=\"text-align: right;\">\n",
       "      <th></th>\n",
       "      <th>dispatching_base_num</th>\n",
       "      <th>pickup_datetime</th>\n",
       "      <th>dropOff_datetime</th>\n",
       "      <th>PUlocationID</th>\n",
       "      <th>DOlocationID</th>\n",
       "      <th>SR_Flag</th>\n",
       "      <th>Affiliated_base_number</th>\n",
       "    </tr>\n",
       "  </thead>\n",
       "  <tbody>\n",
       "    <tr>\n",
       "      <th>0</th>\n",
       "      <td>B00013</td>\n",
       "      <td>2021-02-01 00:01:00</td>\n",
       "      <td>2021-02-01 01:33:00</td>\n",
       "      <td>NaN</td>\n",
       "      <td>NaN</td>\n",
       "      <td>None</td>\n",
       "      <td>B00014</td>\n",
       "    </tr>\n",
       "  </tbody>\n",
       "</table>\n",
       "</div>"
      ],
      "text/plain": [
       "  dispatching_base_num     pickup_datetime    dropOff_datetime  PUlocationID  \\\n",
       "0               B00013 2021-02-01 00:01:00 2021-02-01 01:33:00           NaN   \n",
       "\n",
       "   DOlocationID SR_Flag Affiliated_base_number  \n",
       "0           NaN    None                 B00014  "
      ]
     },
     "execution_count": 17,
     "metadata": {},
     "output_type": "execute_result"
    }
   ],
   "source": [
    "dx = pd.read_parquet('./fhv_tripdata_2021-02.parquet')\n",
    "dx.head(1)"
   ]
  },
  {
   "cell_type": "code",
   "execution_count": 18,
   "id": "e3e1aacd-1001-45a2-9ce3-c2c0a0c84ca6",
   "metadata": {
    "execution": {
     "iopub.execute_input": "2022-05-23T16:42:29.775681Z",
     "iopub.status.busy": "2022-05-23T16:42:29.775239Z",
     "iopub.status.idle": "2022-05-23T16:42:41.714993Z",
     "shell.execute_reply": "2022-05-23T16:42:41.714157Z",
     "shell.execute_reply.started": "2022-05-23T16:42:29.775655Z"
    }
   },
   "outputs": [],
   "source": [
    "dx.pickup_datetime = pd.to_datetime(dx.pickup_datetime)\n",
    "dx.dropOff_datetime = pd.to_datetime(dx.dropOff_datetime)\n",
    "\n",
    "dx['duration'] = (dx.dropOff_datetime-dx.pickup_datetime)\n",
    "dx.duration = dx.duration.apply(lambda y: y.total_seconds()/60)\n",
    "\n",
    "dx = dx[(dx.duration >= 1) & (dx.duration <= 60)]"
   ]
  },
  {
   "cell_type": "code",
   "execution_count": 19,
   "id": "f468d0fd-0f81-4644-8e88-767bcc24a104",
   "metadata": {
    "execution": {
     "iopub.execute_input": "2022-05-23T16:42:41.716148Z",
     "iopub.status.busy": "2022-05-23T16:42:41.715997Z",
     "iopub.status.idle": "2022-05-23T16:42:59.898536Z",
     "shell.execute_reply": "2022-05-23T16:42:59.898109Z",
     "shell.execute_reply.started": "2022-05-23T16:42:41.716129Z"
    }
   },
   "outputs": [
    {
     "data": {
      "text/plain": [
       "<990113x525 sparse matrix of type '<class 'numpy.float64'>'\n",
       "\twith 0 stored elements in Compressed Sparse Row format>"
      ]
     },
     "execution_count": 19,
     "metadata": {},
     "output_type": "execute_result"
    }
   ],
   "source": [
    "valid_dict = dx[categorical].to_dict(orient='records')\n",
    "dx.fillna(-1, inplace=True)\n",
    "X_valid = dv.transform(valid_dict)\n",
    "X_valid.shape"
   ]
  },
  {
   "cell_type": "code",
   "execution_count": 20,
   "id": "9fd7e271-24fa-4b53-be4f-160f23b8b733",
   "metadata": {
    "execution": {
     "iopub.execute_input": "2022-05-23T16:42:59.900675Z",
     "iopub.status.busy": "2022-05-23T16:42:59.900394Z",
     "iopub.status.idle": "2022-05-23T16:42:59.904800Z",
     "shell.execute_reply": "2022-05-23T16:42:59.904092Z",
     "shell.execute_reply.started": "2022-05-23T16:42:59.900650Z"
    }
   },
   "outputs": [],
   "source": [
    "y_valid = dx['duration'].values"
   ]
  },
  {
   "cell_type": "code",
   "execution_count": 21,
   "id": "473068fd-9bac-48a5-a6af-b159c233fb9f",
   "metadata": {
    "execution": {
     "iopub.execute_input": "2022-05-23T16:42:59.905646Z",
     "iopub.status.busy": "2022-05-23T16:42:59.905512Z",
     "iopub.status.idle": "2022-05-23T16:42:59.919176Z",
     "shell.execute_reply": "2022-05-23T16:42:59.918401Z",
     "shell.execute_reply.started": "2022-05-23T16:42:59.905630Z"
    }
   },
   "outputs": [
    {
     "name": "stdout",
     "output_type": "stream",
     "text": [
      "RMSE Validation: 12.86\n"
     ]
    }
   ],
   "source": [
    "y_valid_pred = lr.predict(X_valid)\n",
    "print(f'RMSE Validation: {mean_squared_error(y_valid, y_valid_pred, squared=False):.2f}')"
   ]
  }
 ],
 "metadata": {
  "kernelspec": {
   "display_name": "Python 3 (ipykernel)",
   "language": "python",
   "name": "python3"
  },
  "language_info": {
   "codemirror_mode": {
    "name": "ipython",
    "version": 3
   },
   "file_extension": ".py",
   "mimetype": "text/x-python",
   "name": "python",
   "nbconvert_exporter": "python",
   "pygments_lexer": "ipython3",
   "version": "3.8.12"
  }
 },
 "nbformat": 4,
 "nbformat_minor": 5
}
